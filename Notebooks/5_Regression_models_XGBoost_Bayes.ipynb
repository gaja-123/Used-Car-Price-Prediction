{
 "cells": [
  {
   "cell_type": "markdown",
   "id": "cd49daaa-9a98-4239-b896-1ca3f84470c7",
   "metadata": {
    "id": "cd49daaa-9a98-4239-b896-1ca3f84470c7"
   },
   "source": [
    "# Regression Models\n",
    "\n",
    "We’ll build a regression model using **Decision Tree** Regressor, tuning hyperparameters with the three different methods.\n"
   ]
  },
  {
   "cell_type": "code",
   "execution_count": 1,
   "id": "d5317303",
   "metadata": {
    "id": "d5317303",
    "outputId": "6a91c528-a5ed-49cc-c7e0-b752ff372460"
   },
   "outputs": [
    {
     "name": "stdout",
     "output_type": "stream",
     "text": [
      "Name: scipy\n",
      "Version: 1.13.1\n",
      "Summary: Fundamental algorithms for scientific computing in Python\n",
      "Home-page: https://scipy.org/\n",
      "Author: \n",
      "Author-email: \n",
      "License: Copyright (c) 2001-2002 Enthought, Inc. 2003-2024, SciPy Developers.\n",
      "All rights reserved.\n",
      "\n",
      "Redistribution and use in source and binary forms, with or without\n",
      "modification, are permitted provided that the following conditions\n",
      "are met:\n",
      "\n",
      "1. Redistributions of source code must retain the above copyright\n",
      "   notice, this list of conditions and the following disclaimer.\n",
      "\n",
      "2. Redistributions in binary form must reproduce the above\n",
      "   copyright notice, this list of conditions and the following\n",
      "   disclaimer in the documentation and/or other materials provided\n",
      "   with the distribution.\n",
      "\n",
      "3. Neither the name of the copyright holder nor the names of its\n",
      "   contributors may be used to endorse or promote products derived\n",
      "   from this software without specific prior written permission.\n",
      "\n",
      "THIS SOFTWARE IS PROVIDED BY THE COPYRIGHT HOLDERS AND CONTRIBUTORS\n",
      "\"AS IS\" AND ANY EXPRESS OR IMPLIED WARRANTIES, INCLUDING, BUT NOT\n",
      "LIMITED TO, THE IMPLIED WARRANTIES OF MERCHANTABILITY AND FITNESS FOR\n",
      "A PARTICULAR PURPOSE ARE DISCLAIMED. IN NO EVENT SHALL THE COPYRIGHT\n",
      "OWNER OR CONTRIBUTORS BE LIABLE FOR ANY DIRECT, INDIRECT, INCIDENTAL,\n",
      "SPECIAL, EXEMPLARY, OR CONSEQUENTIAL DAMAGES (INCLUDING, BUT NOT\n",
      "LIMITED TO, PROCUREMENT OF SUBSTITUTE GOODS OR SERVICES; LOSS OF USE,\n",
      "DATA, OR PROFITS; OR BUSINESS INTERRUPTION) HOWEVER CAUSED AND ON ANY\n",
      "THEORY OF LIABILITY, WHETHER IN CONTRACT, STRICT LIABILITY, OR TORT\n",
      "(INCLUDING NEGLIGENCE OR OTHERWISE) ARISING IN ANY WAY OUT OF THE USE\n",
      "OF THIS SOFTWARE, EVEN IF ADVISED OF THE POSSIBILITY OF SUCH DAMAGE.\n",
      "Location: /opt/anaconda3/lib/python3.12/site-packages\n",
      "Requires: numpy\n",
      "Required-by: category_encoders, datashader, gensim, imbalanced-learn, scikit-image, scikit-learn, scikit-optimize, statsmodels, sweetviz, xgboost, yellowbrick\n"
     ]
    }
   ],
   "source": [
    "! pip show scipy"
   ]
  },
  {
   "cell_type": "markdown",
   "id": "de413ce6",
   "metadata": {
    "id": "de413ce6"
   },
   "source": [
    "! pip install --upgrade scipy"
   ]
  },
  {
   "cell_type": "markdown",
   "id": "d9f5a77b",
   "metadata": {
    "id": "d9f5a77b"
   },
   "source": [
    "! pip install --upgrade scikit-optimize"
   ]
  },
  {
   "cell_type": "markdown",
   "id": "c54dc904-65d2-4a0a-9cd3-7b557ecd9bf8",
   "metadata": {
    "id": "c54dc904-65d2-4a0a-9cd3-7b557ecd9bf8"
   },
   "source": [
    "## Step 1: Load and Prepare the Data"
   ]
  },
  {
   "cell_type": "code",
   "execution_count": 2,
   "id": "4f4d46fb-e9c6-4a38-9104-804d90e58007",
   "metadata": {
    "id": "4f4d46fb-e9c6-4a38-9104-804d90e58007"
   },
   "outputs": [],
   "source": [
    "import warnings\n",
    "warnings.filterwarnings(\"ignore\")"
   ]
  },
  {
   "cell_type": "code",
   "execution_count": 3,
   "id": "363c14f4-371c-4e7e-a99e-b7f0ee411d6d",
   "metadata": {
    "id": "363c14f4-371c-4e7e-a99e-b7f0ee411d6d"
   },
   "outputs": [],
   "source": [
    "from datetime import datetime\n",
    "from datetime import timedelta\n",
    "import time"
   ]
  },
  {
   "cell_type": "code",
   "execution_count": 4,
   "id": "4595d3d3-e956-46ec-8b3d-e3c1ed2ff0f2",
   "metadata": {
    "id": "4595d3d3-e956-46ec-8b3d-e3c1ed2ff0f2"
   },
   "outputs": [],
   "source": [
    "import psutil\n",
    "import os, io\n",
    "import sys\n",
    "import platform\n",
    "import sysconfig\n",
    "import pandas   as     pd\n",
    "import numpy    as     np\n",
    "import sklearn\n",
    "import time\n",
    "from   tabulate import tabulate\n",
    "from   platform import python_version\n",
    "pd.set_option('display.max_rows', None)\n",
    "import warnings\n",
    "warnings.filterwarnings(\"ignore\")"
   ]
  },
  {
   "cell_type": "code",
   "execution_count": 5,
   "id": "cc78f3c0-cd6b-4803-915e-7e0c49daeee0",
   "metadata": {
    "colab": {
     "base_uri": "https://localhost:8080/"
    },
    "id": "cc78f3c0-cd6b-4803-915e-7e0c49daeee0",
    "outputId": "ad80a3bb-8130-45c3-8ad9-8e14e93f226a"
   },
   "outputs": [
    {
     "name": "stdout",
     "output_type": "stream",
     "text": [
      "1.6.1\n",
      "3.12.7 | packaged by Anaconda, Inc. | (main, Oct  4 2024, 08:22:19) [Clang 14.0.6 ]\n"
     ]
    }
   ],
   "source": [
    "# check scikit-learn version\n",
    "print(sklearn.__version__)\n",
    "print(sys.version)"
   ]
  },
  {
   "cell_type": "code",
   "execution_count": 6,
   "id": "86c8680b-b821-4777-9c58-8217a25ec61a",
   "metadata": {
    "id": "86c8680b-b821-4777-9c58-8217a25ec61a"
   },
   "outputs": [],
   "source": [
    "from     sklearn.model_selection  import     train_test_split\n",
    "from     xgboost                  import     XGBRegressor\n",
    "from     sklearn.preprocessing     import    StandardScaler\n",
    "import   pandas                    as        pd\n",
    "import   numpy                     as        np\n",
    "from     sklearn.metrics           import    mean_squared_error\n",
    "from     sklearn.metrics           import    explained_variance_score\n",
    "import   time"
   ]
  },
  {
   "cell_type": "code",
   "execution_count": 7,
   "id": "HnEkBlSZ62t-",
   "metadata": {
    "colab": {
     "base_uri": "https://localhost:8080/"
    },
    "id": "HnEkBlSZ62t-",
    "outputId": "12f1711d-3ca4-4f89-88de-f39e355bb49f"
   },
   "outputs": [
    {
     "name": "stdout",
     "output_type": "stream",
     "text": [
      "Requirement already satisfied: scikit-optimize in /opt/anaconda3/lib/python3.12/site-packages (0.10.2)\n",
      "Requirement already satisfied: joblib>=0.11 in /opt/anaconda3/lib/python3.12/site-packages (from scikit-optimize) (1.4.2)\n",
      "Requirement already satisfied: pyaml>=16.9 in /opt/anaconda3/lib/python3.12/site-packages (from scikit-optimize) (25.7.0)\n",
      "Requirement already satisfied: numpy>=1.20.3 in /opt/anaconda3/lib/python3.12/site-packages (from scikit-optimize) (1.26.4)\n",
      "Requirement already satisfied: scipy>=1.1.0 in /opt/anaconda3/lib/python3.12/site-packages (from scikit-optimize) (1.13.1)\n",
      "Requirement already satisfied: scikit-learn>=1.0.0 in /opt/anaconda3/lib/python3.12/site-packages (from scikit-optimize) (1.6.1)\n",
      "Requirement already satisfied: packaging>=21.3 in /opt/anaconda3/lib/python3.12/site-packages (from scikit-optimize) (24.1)\n",
      "Requirement already satisfied: PyYAML in /opt/anaconda3/lib/python3.12/site-packages (from pyaml>=16.9->scikit-optimize) (6.0.1)\n",
      "Requirement already satisfied: threadpoolctl>=3.1.0 in /opt/anaconda3/lib/python3.12/site-packages (from scikit-learn>=1.0.0->scikit-optimize) (3.5.0)\n"
     ]
    }
   ],
   "source": [
    "!pip install scikit-optimize"
   ]
  },
  {
   "cell_type": "code",
   "execution_count": 8,
   "id": "4d7b7e78-9451-458d-ad45-2c1713f7e203",
   "metadata": {
    "id": "4d7b7e78-9451-458d-ad45-2c1713f7e203"
   },
   "outputs": [],
   "source": [
    "def  tune_params_bayes(X_train, y_train,X_test,y_test, paramgrid, model):\n",
    "    # methods                             =  ['GridSearchCV', 'RandomizedSearchCV', 'BayesSearchCV']\n",
    "    # rmse_scores                         =  []\n",
    "    timings                             =  []\n",
    "###\n",
    "    # from     sklearn.model_selection    import GridSearchCV\n",
    "    # from     sklearn.model_selection    import RandomizedSearchCV\n",
    "    from     skopt                      import BayesSearchCV\n",
    "    # from     sklearn.metrics            import explained_variance_score\n",
    "    import   numpy                      as     np\n",
    "    import   matplotlib.pyplot          as     plt\n",
    "\n",
    "### 1 -------------------------------------------------------------\n",
    "    bayes_search                         =  BayesSearchCV( estimator    = model, search_spaces = paramgrid,\n",
    "                                                          n_iter = 10, # Number of iterations\n",
    "                                                           cv           = 5,       # Cross-validation folds\n",
    "                                                           scoring      = 'neg_mean_squared_error',  # Scoring metric\n",
    "                                                           random_state = 42,\n",
    "                                                           n_jobs       = -1   # Use all available cores\n",
    "    )\n",
    "    # Fit the model\n",
    "    bayes_search.fit(X_train, y_train)\n",
    "    # Best parameters and score\n",
    "    print(\"Best Parameters:\", bayes_search.best_params_)\n",
    "    print(\"Best Score:\", bayes_search.best_score_)\n",
    "    start_time                           =  time.time()\n",
    "    bayes_search.fit(X_train, y_train)\n",
    "    model_parameters                   =   bayes_search.best_estimator_.get_params()\n",
    "    print(\"XGBoost Regression model parameters\\n\")\n",
    "    print(model_parameters)\n",
    "    print(\"BayesianSearch Best Params:\", bayes_search.best_estimator_)\n",
    "\n",
    "    end_time                            =  time.time()\n",
    "    bayes_time                          =  end_time  - start_time # time_taken is in seconds\n",
    "    hours, rest                          =  divmod(bayes_time,3600)\n",
    "    minutes, seconds                     =  divmod(rest, 60)\n",
    "    print(\"\\033[1;31mTotal Execution time\",  str(hours) + \" Min: \" + str(minutes) + \" Seconds: \" + str(round(seconds,6)) + \"\\033[0m\\033[0m\\033[0m\\033[0m\")\n"
   ]
  },
  {
   "cell_type": "markdown",
   "id": "5a423d2f-9aaf-4246-87b4-e8855aa110d9",
   "metadata": {
    "id": "5a423d2f-9aaf-4246-87b4-e8855aa110d9"
   },
   "source": [
    "## Extract feature importances"
   ]
  },
  {
   "cell_type": "code",
   "execution_count": 9,
   "id": "95b475ff-1639-4b78-8b89-38be3463b74e",
   "metadata": {
    "id": "95b475ff-1639-4b78-8b89-38be3463b74e"
   },
   "outputs": [],
   "source": [
    "# '''\n",
    "# Feature Importance: The feature_importances_ attribute provides the importance scores for each feature.\n",
    "# Visualization: A horizontal bar chart is plotted using matplotlib to display the importance of each feature.\n",
    "# '''\n",
    "# def  feature_plot(model, model_txt, X, features):\n",
    "#     import  matplotlib.pyplot  as  plt\n",
    "#     importances              =   model.feature_importances_\n",
    "#     indices                  =   np.argsort(importances)\n",
    "\n",
    "#     plt.title('Feature Importances')\n",
    "#     plt.barh(range(len(indices)), importances[indices], color='b', align='center')\n",
    "#     plt.yticks(range(len(indices)), [features[i] for i in indices])\n",
    "#     plt.xlabel('Relative Importance')\n",
    "#     plt.show()\n",
    "\n",
    "#     print(get_feature_importances_df(model,features,importances))\n",
    "#     '''\n",
    "#     indices                    =   np.argsort(feature_importances)\n",
    "#     print(indices)\n",
    "#     ##\n",
    "#     plt.figure(1)\n",
    "#     ttlex    =  \"Feature Importance in Decision Tree Regression - \" + model_txt\n",
    "#     plt.title(ttlex)\n",
    "#     plt.barh(range(len(indices)), feature_importances[indices], color='b', align='center')\n",
    "#     # plt.yticks(range(len(indices)), features[indices])\n",
    "#     plt.xlabel('Relative Importance')\n",
    "#     '''"
   ]
  },
  {
   "cell_type": "code",
   "execution_count": 10,
   "id": "EXjT7-TjoN52",
   "metadata": {
    "id": "EXjT7-TjoN52"
   },
   "outputs": [],
   "source": [
    "# import pandas as pd # Make sure pandas is imported\n",
    "\n",
    "# def get_feature_importances_df(model, features, importances):\n",
    "#     \"\"\"\n",
    "#     Retrieves feature importances from a model and returns them as a sorted DataFrame.\n",
    "\n",
    "#     Args:\n",
    "#         model: A trained machine learning model with a .feature_importances_ attribute.\n",
    "#         features (list): A list of feature names corresponding to the model's input.\n",
    "\n",
    "#     Returns:\n",
    "#         pd.DataFrame: A DataFrame with 'Feature' and 'Importance' columns,\n",
    "#                       sorted by importance in descending order.\n",
    "#     \"\"\"\n",
    "#     if not hasattr(model, 'feature_importances_'):\n",
    "#         print(\"Warning: Model does not have a 'feature_importances_' attribute.\")\n",
    "#         return pd.DataFrame(columns=['Feature', 'Importance'])\n",
    "\n",
    "#     # importances = model.feature_importances_\n",
    "\n",
    "#     # Create a DataFrame\n",
    "#     feature_importance_df = pd.DataFrame({\n",
    "#         'Feature': features,\n",
    "#         'Importance': importances\n",
    "#     })\n",
    "\n",
    "#     # Sort the DataFrame by importance in descending order\n",
    "#     feature_importance_df = feature_importance_df.sort_values(\n",
    "#         by='Importance', ascending=False\n",
    "#     ).reset_index(drop=True)\n",
    "\n",
    "#     return feature_importance_df"
   ]
  },
  {
   "cell_type": "code",
   "execution_count": 11,
   "id": "70bb4774-a800-48f1-a023-2af029fa7ab0",
   "metadata": {
    "id": "70bb4774-a800-48f1-a023-2af029fa7ab0"
   },
   "outputs": [],
   "source": [
    "Models_start_time            =   time.time()"
   ]
  },
  {
   "cell_type": "code",
   "execution_count": 12,
   "id": "4222b610-cc54-4685-aa4b-0eb9561c3265",
   "metadata": {
    "colab": {
     "base_uri": "https://localhost:8080/"
    },
    "id": "4222b610-cc54-4685-aa4b-0eb9561c3265",
    "outputId": "f39e9659-62e6-4183-8f52-f76451cee836"
   },
   "outputs": [
    {
     "name": "stdout",
     "output_type": "stream",
     "text": [
      "                           0           1           2           3           4\n",
      "brand_EDA           8.000000    8.000000    2.000000    8.000000    7.000000\n",
      "model_EDA          10.000000   10.000000   10.000000   10.000000   10.000000\n",
      "model_year_EDA     10.000000   10.000000   10.000000    3.000000    7.000000\n",
      "transmission_EDA    0.000000    0.000000    0.000000    9.000000    6.000000\n",
      "HP                172.000000  252.000000  320.000000  420.000000  208.000000\n",
      "Litres              1.600000    3.900000    5.300000    5.000000    2.000000\n",
      "Cylinders           4.000000    8.000000    8.000000    8.000000    4.000000\n",
      "cylinder_layout     2.000000    2.000000    2.000000    2.000000    2.000000\n",
      "fuel_type           3.000000    3.000000    2.000000    3.000000    3.000000\n",
      "ext_col_EDA         7.000000    9.000000    1.000000    0.000000    0.000000\n",
      "int_col_EDA         6.000000    0.000000    6.000000    1.000000    0.000000\n",
      "color_category      0.000000    1.000000    2.000000    1.000000    1.000000\n",
      "accident            1.000000    0.000000    1.000000    1.000000    1.000000\n",
      "milage              1.000000    0.707866    0.675630    0.095932    0.036039\n",
      "price               0.190021    0.234625    0.496541    0.797418    0.995444\n"
     ]
    }
   ],
   "source": [
    "from sklearn.model_selection    import  train_test_split\n",
    "\n",
    "data                              =  pd.read_csv('train_dataset_used_for_model_scaled.csv',nrows=2000)\n",
    "print(data.head().T)\n",
    "\n",
    "X                                 =  data.drop('price',axis=1)\n",
    "y                                 =  data['price']\n",
    "\n",
    "# Step 3: Train-test split\n",
    "X_train, X_test, y_train, y_test =   train_test_split(X, y, test_size = 0.2, random_state = 42)"
   ]
  },
  {
   "cell_type": "code",
   "execution_count": 13,
   "id": "18c0800c-155f-42a7-b5e0-f3dbe28d8862",
   "metadata": {
    "id": "18c0800c-155f-42a7-b5e0-f3dbe28d8862"
   },
   "outputs": [],
   "source": [
    "param_grid = {'max_depth': [5,6,7,8],\n",
    "              'learning_rate': [0.01, 0.05, 0.1, 0.2],\n",
    "              'n_estimators': [100, 200, 300, 500],\n",
    "              'subsample': [0.6, 0.8, 0.9, 1.0]\n",
    "             }"
   ]
  },
  {
   "cell_type": "code",
   "execution_count": 14,
   "id": "91afb0f4-878d-40f4-9e3a-7a00060f0daa",
   "metadata": {
    "id": "91afb0f4-878d-40f4-9e3a-7a00060f0daa"
   },
   "outputs": [],
   "source": [
    "xgb          = XGBRegressor(random_state = 42)"
   ]
  },
  {
   "cell_type": "code",
   "execution_count": 16,
   "id": "326de669-dcf0-4edf-a715-0ad6ccf80192",
   "metadata": {
    "id": "326de669-dcf0-4edf-a715-0ad6ccf80192"
   },
   "outputs": [],
   "source": [
    "models_end_time                            =  time.time()\n",
    "time_taken                                 =  models_end_time - Models_start_time # time_taken is in seconds\n",
    "hours, rest                                =  divmod(time_taken,3600)\n",
    "minutes, seconds                           =  divmod(rest, 60)"
   ]
  },
  {
   "cell_type": "code",
   "execution_count": 17,
   "id": "cb307652-11c0-41bb-a7db-10d298ebdab7",
   "metadata": {
    "colab": {
     "base_uri": "https://localhost:8080/"
    },
    "id": "cb307652-11c0-41bb-a7db-10d298ebdab7",
    "outputId": "3263dc3d-4c38-4d05-9a0e-d11af92f5ea4"
   },
   "outputs": [
    {
     "name": "stdout",
     "output_type": "stream",
     "text": [
      "+--------------------------------------------------------------------------+--------------------------------+\n",
      "|                                                                          | Values                         |\n",
      "+==========================================================================+================================+\n",
      "| This application was processed using the PC with the below configuration | :                              |\n",
      "+--------------------------------------------------------------------------+--------------------------------+\n",
      "| sklearn version                                                          | 1.6.1                          |\n",
      "+--------------------------------------------------------------------------+--------------------------------+\n",
      "| Python version                                                           | 3.12.7                         |\n",
      "+--------------------------------------------------------------------------+--------------------------------+\n",
      "| OS Name                                                                  | posix                          |\n",
      "+--------------------------------------------------------------------------+--------------------------------+\n",
      "| System Platform                                                          | darwin                         |\n",
      "+--------------------------------------------------------------------------+--------------------------------+\n",
      "| OS on which the Python interpreter is currently running                  | Darwin                         |\n",
      "+--------------------------------------------------------------------------+--------------------------------+\n",
      "| Platform Architecture                                                    | ('64bit', '')                  |\n",
      "+--------------------------------------------------------------------------+--------------------------------+\n",
      "| \u001b[1;31mTotal RAM                                                                | 16.0:GB\u001b[0m\u001b[0m\u001b[0m\u001b[0m                        |\n",
      "+--------------------------------------------------------------------------+--------------------------------+\n",
      "| \u001b[1;31mTotal Execution time                                                     | 0.0 Min: 0.0 Seconds: 8.525432\u001b[0m\u001b[0m\u001b[0m\u001b[0m |\n",
      "+--------------------------------------------------------------------------+--------------------------------+\n"
     ]
    }
   ],
   "source": [
    "data = [[\"This application was processed using the PC with the below configuration\", \":\"],\n",
    "        [\"sklearn version\", sklearn.__version__],\n",
    "        [\"Python version\", python_version()],\n",
    "        [\"OS Name\", os.name],\n",
    "        [\"System Platform\", sys.platform],\n",
    "        [\"OS on which the Python interpreter is currently running\", platform.system()],\n",
    "        ['Platform Architecture',  str(platform.architecture())],\n",
    "        [\"\\033[1;31mTotal RAM\", str(round(psutil.virtual_memory().total/(1024 ** 3),0)) + \":GB\" + \"\\033[0m\\033[0m\\033[0m\\033[0m\"],\n",
    "        [\"\\033[1;31mTotal Execution time\",  str(hours) + \" Min: \" + str(minutes) + \" Seconds: \" + str(round(seconds,6)) + \"\\033[0m\\033[0m\\033[0m\\033[0m\"]\n",
    "       ]\n",
    "\n",
    "headers = [\"\", \"Values\"]\n",
    "\n",
    "print(tabulate(data, headers = headers, tablefmt = \"grid\"))"
   ]
  },
  {
   "cell_type": "code",
   "execution_count": null,
   "id": "5kpN5sG6ggCu",
   "metadata": {
    "id": "5kpN5sG6ggCu"
   },
   "outputs": [],
   "source": []
  }
 ],
 "metadata": {
  "colab": {
   "provenance": []
  },
  "kernelspec": {
   "display_name": "Python [conda env:base] *",
   "language": "python",
   "name": "conda-base-py"
  },
  "language_info": {
   "codemirror_mode": {
    "name": "ipython",
    "version": 3
   },
   "file_extension": ".py",
   "mimetype": "text/x-python",
   "name": "python",
   "nbconvert_exporter": "python",
   "pygments_lexer": "ipython3",
   "version": "3.12.7"
  }
 },
 "nbformat": 4,
 "nbformat_minor": 5
}
